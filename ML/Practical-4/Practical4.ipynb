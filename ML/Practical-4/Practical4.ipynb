{
  "nbformat": 4,
  "nbformat_minor": 0,
  "metadata": {
    "colab": {
      "provenance": []
    },
    "kernelspec": {
      "name": "python3",
      "display_name": "Python 3"
    },
    "language_info": {
      "name": "python"
    }
  },
  "cells": [
    {
      "cell_type": "markdown",
      "source": [
        "**Implement Gradient Descent Algorithm to find the local minima of a function. For example, find the local minima of the function y=(x+3)² starting from the point x=2.**"
      ],
      "metadata": {
        "id": "XfOdZhOtSzuy"
      }
    },
    {
      "cell_type": "code",
      "execution_count": 1,
      "metadata": {
        "id": "AizJvuf3Styo"
      },
      "outputs": [],
      "source": [
        "import numpy as np"
      ]
    },
    {
      "cell_type": "code",
      "source": [
        "# Function to compute the value of the function at a given x\n",
        "def func(x):\n",
        "    return (x + 3)**2"
      ],
      "metadata": {
        "id": "LR2Pd_fITMP0"
      },
      "execution_count": 2,
      "outputs": []
    },
    {
      "cell_type": "code",
      "source": [
        "# Derivative of the function with respect to x\n",
        "def derivative(x):\n",
        "    return 2 * (x + 3)"
      ],
      "metadata": {
        "id": "qwVm-ALTTQug"
      },
      "execution_count": 3,
      "outputs": []
    },
    {
      "cell_type": "code",
      "source": [
        "# Gradient Descent Algorithm\n",
        "def gradient_descent(starting_x, learning_rate, num_iterations):\n",
        "    x = starting_x  # Initial point\n",
        "    for i in range(num_iterations):\n",
        "        gradient = derivative(x)  # Calculate the gradient\n",
        "        x = x - learning_rate * gradient  # Update x based on gradient\n",
        "        print(f\"Iteration {i+1}: x = {x}, y = {func(x)}\")  # Print the progress\n",
        "    return x"
      ],
      "metadata": {
        "id": "ri7z2NhBTXVH"
      },
      "execution_count": 4,
      "outputs": []
    },
    {
      "cell_type": "code",
      "source": [
        "# Parameters for Gradient Descent\n",
        "starting_x = 2       # Initial starting point (x = 2)\n",
        "learning_rate = 0.1  # Learning rate\n",
        "num_iterations = 20  # Number of iterations to run gradient descent"
      ],
      "metadata": {
        "id": "M4Vr-VRaTeh0"
      },
      "execution_count": 5,
      "outputs": []
    },
    {
      "cell_type": "code",
      "source": [
        "# Running the gradient descent algorithm\n",
        "local_min_x = gradient_descent(starting_x, learning_rate, num_iterations)\n",
        "print(f\"The local minimum occurs at x = {local_min_x}, y = {func(local_min_x)}\")"
      ],
      "metadata": {
        "colab": {
          "base_uri": "https://localhost:8080/"
        },
        "id": "sDiJwH2XTifO",
        "outputId": "13ac66e7-738f-4b9b-e22e-031e59b2c29d"
      },
      "execution_count": 6,
      "outputs": [
        {
          "output_type": "stream",
          "name": "stdout",
          "text": [
            "Iteration 1: x = 1.0, y = 16.0\n",
            "Iteration 2: x = 0.19999999999999996, y = 10.240000000000002\n",
            "Iteration 3: x = -0.44000000000000017, y = 6.553599999999998\n",
            "Iteration 4: x = -0.9520000000000001, y = 4.194304\n",
            "Iteration 5: x = -1.3616000000000001, y = 2.6843545599999996\n",
            "Iteration 6: x = -1.6892800000000001, y = 1.7179869183999996\n",
            "Iteration 7: x = -1.951424, y = 1.099511627776\n",
            "Iteration 8: x = -2.1611392, y = 0.7036874417766399\n",
            "Iteration 9: x = -2.32891136, y = 0.4503599627370493\n",
            "Iteration 10: x = -2.463129088, y = 0.28823037615171165\n",
            "Iteration 11: x = -2.5705032704, y = 0.1844674407370954\n",
            "Iteration 12: x = -2.6564026163200003, y = 0.11805916207174093\n",
            "Iteration 13: x = -2.725122093056, y = 0.07555786372591429\n",
            "Iteration 14: x = -2.7800976744448, y = 0.04835703278458515\n",
            "Iteration 15: x = -2.82407813955584, y = 0.030948500982134555\n",
            "Iteration 16: x = -2.8592625116446717, y = 0.019807040628566166\n",
            "Iteration 17: x = -2.8874100093157375, y = 0.012676506002282305\n",
            "Iteration 18: x = -2.90992800745259, y = 0.008112963841460692\n",
            "Iteration 19: x = -2.927942405962072, y = 0.005192296858534868\n",
            "Iteration 20: x = -2.9423539247696575, y = 0.0033230699894623056\n",
            "The local minimum occurs at x = -2.9423539247696575, y = 0.0033230699894623056\n"
          ]
        }
      ]
    }
  ]
}