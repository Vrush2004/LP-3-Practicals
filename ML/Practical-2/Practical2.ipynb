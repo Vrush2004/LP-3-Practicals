{
  "nbformat": 4,
  "nbformat_minor": 0,
  "metadata": {
    "colab": {
      "provenance": []
    },
    "kernelspec": {
      "name": "python3",
      "display_name": "Python 3"
    },
    "language_info": {
      "name": "python"
    }
  },
  "cells": [
    {
      "cell_type": "markdown",
      "source": [
        "**2.Classify the email using the binary classification method. Email Spam detection has two states: a) Normal State – Not Spam, b) Abnormal State – Spam.**\n",
        "Use K-Nearest Neighbors and Support Vector Machine for classification. Analyze their performance.\n",
        "Dataset link: The emails.csv dataset on the Kaggle\n",
        "https://www.kaggle.com/datasets/balaka18/email-spam-classification-dataset-csv"
      ],
      "metadata": {
        "id": "nVa6M_dHT_Fk"
      }
    },
    {
      "cell_type": "markdown",
      "source": [
        "**Step 1: Load and Preprocess the Dataset**"
      ],
      "metadata": {
        "id": "Lt7tCOi4UgtR"
      }
    },
    {
      "cell_type": "code",
      "execution_count": 1,
      "metadata": {
        "id": "yJEUiIlvTf3o"
      },
      "outputs": [],
      "source": [
        "import pandas as pd\n",
        "from sklearn.model_selection import train_test_split\n",
        "from sklearn.feature_extraction.text import TfidfVectorizer\n",
        "from sklearn.preprocessing import LabelEncoder"
      ]
    },
    {
      "cell_type": "code",
      "source": [
        "# Load the dataset\n",
        "data = pd.read_csv('emails.csv')"
      ],
      "metadata": {
        "id": "jSd4NA6rUtEl"
      },
      "execution_count": 2,
      "outputs": []
    },
    {
      "cell_type": "code",
      "source": [
        "# Display the first few rows\n",
        "print(data.head())\n",
        "\n",
        "# Check the column names\n",
        "print(data.columns)"
      ],
      "metadata": {
        "colab": {
          "base_uri": "https://localhost:8080/"
        },
        "id": "wxHGt8XoU0aq",
        "outputId": "d6782d2d-921a-4a67-93b2-e9c5144f3769"
      },
      "execution_count": 3,
      "outputs": [
        {
          "output_type": "stream",
          "name": "stdout",
          "text": [
            "  Email No.  the  to  ect  and  for  of    a  you  hou  ...  connevey  jay  \\\n",
            "0   Email 1    0   0    1    0    0   0    2    0    0  ...       0.0  0.0   \n",
            "1   Email 2    8  13   24    6    6   2  102    1   27  ...       0.0  0.0   \n",
            "2   Email 3    0   0    1    0    0   0    8    0    0  ...       0.0  0.0   \n",
            "3   Email 4    0   5   22    0    5   1   51    2   10  ...       0.0  0.0   \n",
            "4   Email 5    7   6   17    1    5   2   57    0    9  ...       0.0  0.0   \n",
            "\n",
            "   valued  lay  infrastructure  military  allowing   ff  dry  Prediction  \n",
            "0     0.0  0.0             0.0       0.0       0.0  0.0  0.0         0.0  \n",
            "1     0.0  0.0             0.0       0.0       0.0  1.0  0.0         0.0  \n",
            "2     0.0  0.0             0.0       0.0       0.0  0.0  0.0         0.0  \n",
            "3     0.0  0.0             0.0       0.0       0.0  0.0  0.0         0.0  \n",
            "4     0.0  0.0             0.0       0.0       0.0  1.0  0.0         0.0  \n",
            "\n",
            "[5 rows x 3002 columns]\n",
            "Index(['Email No.', 'the', 'to', 'ect', 'and', 'for', 'of', 'a', 'you', 'hou',\n",
            "       ...\n",
            "       'connevey', 'jay', 'valued', 'lay', 'infrastructure', 'military',\n",
            "       'allowing', 'ff', 'dry', 'Prediction'],\n",
            "      dtype='object', length=3002)\n"
          ]
        }
      ]
    },
    {
      "cell_type": "code",
      "source": [
        "# Check for missing values\n",
        "print(data.isnull().sum())"
      ],
      "metadata": {
        "colab": {
          "base_uri": "https://localhost:8080/"
        },
        "id": "WOBS8FHdVOvE",
        "outputId": "37bb2d28-b1dd-47da-9a1e-8fe526bcf115"
      },
      "execution_count": 4,
      "outputs": [
        {
          "output_type": "stream",
          "name": "stdout",
          "text": [
            "Email No.     0\n",
            "the           0\n",
            "to            0\n",
            "ect           0\n",
            "and           0\n",
            "             ..\n",
            "military      1\n",
            "allowing      1\n",
            "ff            1\n",
            "dry           1\n",
            "Prediction    1\n",
            "Length: 3002, dtype: int64\n"
          ]
        }
      ]
    },
    {
      "cell_type": "code",
      "source": [
        "data.dropna(inplace=True)"
      ],
      "metadata": {
        "id": "O5EvJoHVVV44"
      },
      "execution_count": 5,
      "outputs": []
    },
    {
      "cell_type": "markdown",
      "source": [
        "**Step 2: Prepare Features and Target Variable**"
      ],
      "metadata": {
        "id": "4AqerICBWAqy"
      }
    },
    {
      "cell_type": "code",
      "source": [
        "# Prepare features and target variable\n",
        "X = data.drop(columns=['Email No.', 'Prediction'])  # Drop non-feature columns\n",
        "y = data['Prediction']  # Use 'Prediction' as the target variable"
      ],
      "metadata": {
        "id": "CU2xLMs2VdDu"
      },
      "execution_count": 7,
      "outputs": []
    },
    {
      "cell_type": "markdown",
      "source": [
        "**Step 3: Split the Data into Training and Testing Sets**"
      ],
      "metadata": {
        "id": "y0K2RSg6WC1w"
      }
    },
    {
      "cell_type": "code",
      "source": [
        "# Split the dataset into training and testing sets\n",
        "X_train, X_test, y_train, y_test = train_test_split(X, y, test_size=0.2, random_state=42)"
      ],
      "metadata": {
        "id": "xIbM-l_sV3ZK"
      },
      "execution_count": 8,
      "outputs": []
    },
    {
      "cell_type": "markdown",
      "source": [
        "**Step 4: Train K-Nearest Neighbors (KNN) Model**"
      ],
      "metadata": {
        "id": "9w-nU-hYWGxW"
      }
    },
    {
      "cell_type": "code",
      "source": [
        "from sklearn.neighbors import KNeighborsClassifier\n",
        "from sklearn.metrics import classification_report, accuracy_score"
      ],
      "metadata": {
        "id": "sb-zaig_WMzt"
      },
      "execution_count": 9,
      "outputs": []
    },
    {
      "cell_type": "code",
      "source": [
        "# Initialize the KNN classifier\n",
        "knn = KNeighborsClassifier(n_neighbors=5)\n",
        "\n",
        "# Train the KNN model\n",
        "knn.fit(X_train, y_train)\n",
        "\n",
        "# Make predictions\n",
        "y_pred_knn = knn.predict(X_test)\n",
        "\n",
        "# Evaluate the KNN model\n",
        "print(\"KNN Classification Report:\")\n",
        "print(classification_report(y_test, y_pred_knn))\n",
        "print(\"KNN Accuracy:\", accuracy_score(y_test, y_pred_knn))"
      ],
      "metadata": {
        "colab": {
          "base_uri": "https://localhost:8080/"
        },
        "id": "UrdQf_x5WQOL",
        "outputId": "6ba6417a-b702-4fa6-9346-aeab58bb88fc"
      },
      "execution_count": 10,
      "outputs": [
        {
          "output_type": "stream",
          "name": "stdout",
          "text": [
            "KNN Classification Report:\n",
            "              precision    recall  f1-score   support\n",
            "\n",
            "         0.0       0.92      0.92      0.92       102\n",
            "         1.0       0.78      0.78      0.78        37\n",
            "\n",
            "    accuracy                           0.88       139\n",
            "   macro avg       0.85      0.85      0.85       139\n",
            "weighted avg       0.88      0.88      0.88       139\n",
            "\n",
            "KNN Accuracy: 0.8848920863309353\n"
          ]
        }
      ]
    },
    {
      "cell_type": "markdown",
      "source": [
        "**Step 5: Train Support Vector Machine (SVM) Model**"
      ],
      "metadata": {
        "id": "g-AugJknWVEq"
      }
    },
    {
      "cell_type": "code",
      "source": [
        "from sklearn.svm import SVC"
      ],
      "metadata": {
        "id": "zd8_JphwWXDX"
      },
      "execution_count": 11,
      "outputs": []
    },
    {
      "cell_type": "code",
      "source": [
        "# Initialize the SVM classifier\n",
        "svm = SVC(kernel='linear')\n",
        "\n",
        "# Train the SVM model\n",
        "svm.fit(X_train, y_train)\n",
        "\n",
        "# Make predictions\n",
        "y_pred_svm = svm.predict(X_test)\n",
        "\n",
        "# Evaluate the SVM model\n",
        "print(\"SVM Classification Report:\")\n",
        "print(classification_report(y_test, y_pred_svm))\n",
        "print(\"SVM Accuracy:\", accuracy_score(y_test, y_pred_svm))"
      ],
      "metadata": {
        "colab": {
          "base_uri": "https://localhost:8080/"
        },
        "id": "gWooLty1WcpD",
        "outputId": "b3f4982c-0611-45ff-935b-d4c59ef8f43a"
      },
      "execution_count": 12,
      "outputs": [
        {
          "output_type": "stream",
          "name": "stdout",
          "text": [
            "SVM Classification Report:\n",
            "              precision    recall  f1-score   support\n",
            "\n",
            "         0.0       0.98      0.95      0.97       102\n",
            "         1.0       0.88      0.95      0.91        37\n",
            "\n",
            "    accuracy                           0.95       139\n",
            "   macro avg       0.93      0.95      0.94       139\n",
            "weighted avg       0.95      0.95      0.95       139\n",
            "\n",
            "SVM Accuracy: 0.9496402877697842\n"
          ]
        }
      ]
    }
  ]
}